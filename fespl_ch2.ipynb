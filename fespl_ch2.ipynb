{
 "cells": [
  {
   "cell_type": "code",
   "execution_count": 2,
   "metadata": {},
   "outputs": [
    {
     "name": "stderr",
     "output_type": "stream",
     "text": [
      "d:\\anaconda_files\\lib\\site-packages\\pandas\\core\\computation\\expressions.py:21: UserWarning: Pandas requires version '2.7.3' or newer of 'numexpr' (version '2.7.1' currently installed).\n",
      "  from pandas.core.computation.check import NUMEXPR_INSTALLED\n"
     ]
    }
   ],
   "source": [
    "import pandas as pd\n",
    "import numpy as np\n",
    "import matplotlib.pyplot as plt\n",
    "import seaborn as sns\n",
    "import pyreadr \n",
    "from scipy import stats"
   ]
  },
  {
   "cell_type": "code",
   "execution_count": 3,
   "metadata": {},
   "outputs": [
    {
     "data": {
      "text/plain": [
       "odict_keys(['okc_test', 'okc_train', 'okc_down', 'okc_sampled'])"
      ]
     },
     "execution_count": 3,
     "metadata": {},
     "output_type": "execute_result"
    }
   ],
   "source": [
    "df = pyreadr.read_r(\"okc.RData\")\n",
    "df.keys()"
   ]
  },
  {
   "cell_type": "code",
   "execution_count": 4,
   "metadata": {},
   "outputs": [
    {
     "data": {
      "text/plain": [
       "other    7167\n",
       "stem     7167\n",
       "Name: Class, dtype: int64"
      ]
     },
     "execution_count": 4,
     "metadata": {},
     "output_type": "execute_result"
    }
   ],
   "source": [
    "df[\"okc_down\"][\"Class\"].value_counts()"
   ]
  },
  {
   "cell_type": "code",
   "execution_count": 5,
   "metadata": {},
   "outputs": [],
   "source": [
    "\n",
    "df_okc = df[\"okc_down\"]"
   ]
  },
  {
   "cell_type": "code",
   "execution_count": 6,
   "metadata": {},
   "outputs": [
    {
     "data": {
      "text/plain": [
       "dtype('int32')"
      ]
     },
     "execution_count": 6,
     "metadata": {},
     "output_type": "execute_result"
    }
   ],
   "source": [
    "df_okc[\"age\"].dtype"
   ]
  },
  {
   "cell_type": "code",
   "execution_count": 7,
   "metadata": {},
   "outputs": [
    {
     "data": {
      "image/png": "[encoded data removed]",
      "text/plain": [
       "<Figure size 864x288 with 3 Axes>"
      ]
     },
     "metadata": {
      "needs_background": "light"
     },
     "output_type": "display_data"
    }
   ],
   "source": [
    "num_features = []\n",
    "for i in df_okc.columns:\n",
    "    if df_okc[i].dtype == \"int32\":\n",
    "        num_features.append(i)\n",
    "fig, axis = plt.subplots(1, len(num_features), figsize=(12, 4))\n",
    "for i, j in enumerate(num_features):\n",
    "    axis[i].hist(df_okc[j], bins=100)\n",
    "    axis[i].set_title(j)\n",
    "\n"
   ]
  },
  {
   "cell_type": "code",
   "execution_count": 8,
   "metadata": {},
   "outputs": [],
   "source": [
    "#creating dummies\n",
    "df_dummies = pd.get_dummies(df_okc.drop(columns=['Class']))\n",
    "df_dummies.shape\n",
    "df_dummies = pd.concat([df_dummies, df_okc[\"Class\"]], axis= 1)"
   ]
  },
  {
   "cell_type": "code",
   "execution_count": 9,
   "metadata": {},
   "outputs": [
    {
     "data": {
      "text/plain": [
       "other    7167\n",
       "stem     7167\n",
       "Name: Class, dtype: int64"
      ]
     },
     "execution_count": 9,
     "metadata": {},
     "output_type": "execute_result"
    }
   ],
   "source": [
    "df_dummies[\"Class\"].value_counts()"
   ]
  },
  {
   "cell_type": "code",
   "execution_count": 10,
   "metadata": {},
   "outputs": [
    {
     "name": "stdout",
     "output_type": "stream",
     "text": [
      "0.7113456004185925 0.7003836763167074\n"
     ]
    }
   ],
   "source": [
    "from random import shuffle\n",
    "from sklearn.linear_model import LogisticRegression\n",
    "from sklearn.metrics import confusion_matrix\n",
    "from sklearn.model_selection import train_test_split\n",
    "from sklearn.utils.class_weight import compute_class_weight\n",
    "from sklearn.preprocessing import LabelEncoder\n",
    "le = LabelEncoder()\n",
    "df_dummies[\"Class\"] = le.fit_transform(df_dummies[\"Class\"])\n",
    "X_train, X_test, y_train, y_test = train_test_split(df_dummies.drop(columns=[\"Class\"]), df_dummies['Class'], test_size=0.2, shuffle = True, random_state=42)\n",
    "#stem_weight = df_okc['Class'].value_counts()[0] / df_okc['Class'].value_counts()[1]\n",
    "#print(stem_weight)\n",
    "#weights = {0: stem_weight*.695, 1\": 1}\n",
    "clf = LogisticRegression(penalty = \"l1\",solver = \"liblinear\", class_weight = \"balanced\")\n",
    "clf.fit(X_train, y_train)\n",
    "print(clf.score(X_train, y_train),\n",
    "    clf.score(X_test, y_test))\n"
   ]
  },
  {
   "cell_type": "code",
   "execution_count": 11,
   "metadata": {},
   "outputs": [
    {
     "data": {
      "text/plain": [
       "1    1438\n",
       "0    1429\n",
       "Name: Class, dtype: int64"
      ]
     },
     "execution_count": 11,
     "metadata": {},
     "output_type": "execute_result"
    }
   ],
   "source": [
    "y_test.value_counts()"
   ]
  },
  {
   "cell_type": "code",
   "execution_count": 12,
   "metadata": {},
   "outputs": [
    {
     "data": {
      "text/plain": [
       "array([[4082, 1656],\n",
       "       [1654, 4075]], dtype=int64)"
      ]
     },
     "execution_count": 12,
     "metadata": {},
     "output_type": "execute_result"
    }
   ],
   "source": [
    "confusion_matrix(y_train, clf.predict(X_train))"
   ]
  },
  {
   "cell_type": "code",
   "execution_count": 13,
   "metadata": {},
   "outputs": [
    {
     "name": "stdout",
     "output_type": "stream",
     "text": [
      "0.7112934194449293 0.7110451928110277 0.4226910032670874\n"
     ]
    }
   ],
   "source": [
    "from sklearn.metrics import recall_score, precision_score, cohen_kappa_score\n",
    "print(recall_score(y_train, clf.predict(X_train)), precision_score(y_train, clf.predict(X_train)), cohen_kappa_score(y_train, clf.predict(X_train)))"
   ]
  },
  {
   "cell_type": "code",
   "execution_count": 14,
   "metadata": {},
   "outputs": [
    {
     "data": {
      "text/plain": [
       "<sklearn.metrics._plot.roc_curve.RocCurveDisplay at 0x1d73b6abdf0>"
      ]
     },
     "execution_count": 14,
     "metadata": {},
     "output_type": "execute_result"
    },
    {
     "data": {
      "image/png": "[encoded data removed]",
      "text/plain": [
       "<Figure size 432x288 with 1 Axes>"
      ]
     },
     "metadata": {
      "needs_background": "light"
     },
     "output_type": "display_data"
    }
   ],
   "source": [
    "from sklearn.metrics import RocCurveDisplay, roc_curve, auc\n",
    "y_pred = (clf.predict_proba(X_train)[:, 1] > .50).astype('float')\n",
    "fpr, tpr, thresholds = roc_curve(y_train, y_pred)\n",
    "roc_auc = auc(fpr, tpr)\n",
    "display = RocCurveDisplay(fpr=fpr, tpr=tpr, roc_auc=roc_auc,  estimator_name='example estimator')\n",
    "display.plot()"
   ]
  },
  {
   "cell_type": "code",
   "execution_count": 15,
   "metadata": {},
   "outputs": [],
   "source": [
    "import torch \n",
    "import torch.nn as nn\n",
    "import torch.nn.functional as F\n",
    "import torch.optim as optim\n",
    "from torch.utils.data import Dataset, DataLoader, TensorDataset\n",
    "from  torch.optim.lr_scheduler import StepLR\n",
    "import tqdm\n",
    "from sklearn.metrics import confusion_matrix\n",
    "from sklearn.metrics import precision_score\n",
    "from sklearn.metrics import recall_score\n",
    "from sklearn.metrics import f1_score\n",
    "from sklearn.metrics import accuracy_score"
   ]
  },
  {
   "cell_type": "code",
   "execution_count": 16,
   "metadata": {},
   "outputs": [],
   "source": [
    "class okcupidata(Dataset):\n",
    "    def __init__(self, df, target):\n",
    "        self.df = df\n",
    "        self.target = target\n",
    "    def __len__(self):\n",
    "        return len(self.df)\n",
    "    def __getitem__(self, idx):\n",
    "        return torch.tensor(self.df.iloc[idx]), torch.tensor(self.target.iloc[idx])"
   ]
  },
  {
   "cell_type": "code",
   "execution_count": 17,
   "metadata": {},
   "outputs": [],
   "source": [
    "from sklearn.preprocessing import MinMaxScaler\n",
    "scaler = MinMaxScaler()\n",
    "x_train = scaler.fit_transform(X_train.values)\n",
    "x_test =  scaler.fit_transform(X_test.values)\n",
    "x_tensor =  torch.from_numpy(x_train).float()\n",
    "y_tensor =  torch.from_numpy(y_train.values.ravel()).float()\n",
    "xtest_tensor =  torch.from_numpy(x_test).float()\n",
    "ytest_tensor =  torch.from_numpy(y_test.values.ravel()).float()\n",
    "y_tensor = y_tensor.unsqueeze(1)\n",
    "train_ds = TensorDataset(x_tensor, y_tensor)\n",
    "train_dl = DataLoader(train_ds, batch_size=64,  shuffle=True)\n",
    "ytest_tensor = ytest_tensor.unsqueeze(1)\n",
    "test_ds = TensorDataset(xtest_tensor, ytest_tensor)\n",
    "test_loader = DataLoader(test_ds, batch_size=64)"
   ]
  },
  {
   "cell_type": "code",
   "execution_count": 18,
   "metadata": {},
   "outputs": [
    {
     "name": "stdout",
     "output_type": "stream",
     "text": [
      "5738 5729\n"
     ]
    }
   ],
   "source": [
    "zero_connt = 0\n",
    "one_count = 0\n",
    "for i, (j, m) in enumerate(train_dl):\n",
    "    for k in m:\n",
    "        if k == torch.tensor(0):\n",
    "            zero_connt += 1\n",
    "        else:\n",
    "            one_count += 1\n",
    "print(zero_connt, one_count)"
   ]
  },
  {
   "cell_type": "code",
   "execution_count": 19,
   "metadata": {},
   "outputs": [],
   "source": [
    "class logisticrig(nn.Module):\n",
    "    def __init__(self):\n",
    "        super(logisticrig, self).__init__()\n",
    "        self.layer_1 = nn.Linear(239, 1) \n",
    "        self.sigmoid =  nn.Sigmoid()\n",
    "\n",
    "    def forward(self, inputs):\n",
    "        x = self.layer_1(inputs)\n",
    "        x = self.sigmoid(x)\n",
    "        return x\n",
    "model = logisticrig()"
   ]
  },
  {
   "cell_type": "code",
   "execution_count": 51,
   "metadata": {},
   "outputs": [],
   "source": [
    "n_hidden1 = 24  # Number of hidden nodes\n",
    "n_hidden2 = 12\n",
    "class CupidModel(nn.Module):\n",
    "    def __init__(self):\n",
    "        super(CupidModel, self).__init__()\n",
    "        self.layer_1 = nn.Linear(239, n_hidden1) \n",
    "        self.layer_2 = nn.Linear(n_hidden1, n_hidden2)\n",
    "        self.layer_out = nn.Linear(n_hidden2, 1)\n",
    "        self.relu = nn.ReLU()\n",
    "        self.sigmoid =  nn.Sigmoid()\n",
    "        self.dropout = nn.Dropout(p=0.1)\n",
    "        self.batchnorm1 = nn.BatchNorm1d(n_hidden1, track_running_stats=False)\n",
    "\n",
    "    def forward(self, inputs):\n",
    "        x = self.relu(self.layer_1(inputs))\n",
    "        x = self.batchnorm1(x)\n",
    "        x = self.dropout(x)\n",
    "        x = self.relu(self.layer_2(x))\n",
    "        x = self.dropout(x)\n",
    "        x = self.sigmoid(self.layer_out(x))\n",
    "        \n",
    "        return x\n",
    "    \n",
    "\n",
    "model = CupidModel()"
   ]
  },
  {
   "cell_type": "code",
   "execution_count": 52,
   "metadata": {},
   "outputs": [],
   "source": [
    "optimizer = optim.RMSprop(model.parameters(), lr=.0001, weight_decay=0, momentum=0, centered=False) \n",
    "scheduler = StepLR(optimizer, step_size=1, gamma=0.04458)\n",
    "loss_fn = nn.BCELoss()"
   ]
  },
  {
   "cell_type": "code",
   "execution_count": 53,
   "metadata": {},
   "outputs": [
    {
     "name": "stdout",
     "output_type": "stream",
     "text": [
      "Train Epoch: 0 \tLoss: 0.850525\n",
      "Train Epoch: 10 \tLoss: 0.804592\n",
      "Train Epoch: 20 \tLoss: 0.606474\n",
      "Train Epoch: 30 \tLoss: 0.692050\n",
      "Train Epoch: 40 \tLoss: 0.484138\n"
     ]
    }
   ],
   "source": [
    "model.train()\n",
    "for epoch in range(50):\n",
    "    for batch_idx, (data, target) in enumerate(train_dl):\n",
    "        optimizer.zero_grad()\n",
    "        output = model(data)\n",
    "        loss = loss_fn(output, target)\n",
    "        #print(output, target.float().unsqueeze(1))\n",
    "        l2_lambda = 0.001\n",
    "        l2_norm = sum(p.abs().sum() for p in model.parameters())\n",
    "        loss = loss + l2_lambda * l2_norm\n",
    "        loss.backward()\n",
    "        optimizer.step()\n",
    "    #scheduler.step()\n",
    "    if epoch % 10 == 0:\n",
    "        print('Train Epoch: {} \\tLoss: {:.6f}'.format(\n",
    "            epoch, loss.item()))"
   ]
  },
  {
   "cell_type": "code",
   "execution_count": 54,
   "metadata": {},
   "outputs": [],
   "source": [
    "# model evaluation on training set\n",
    "\n",
    "import itertools\n",
    "\n",
    "y_pred_list = []\n",
    "model.eval()\n",
    "#Since we don't need model to back propagate the gradients in test set we use torch.no_grad()\n",
    "# reduces memory usage and speeds up computation\n",
    "with torch.no_grad():\n",
    "    for xb_test,yb_test  in test_loader:\n",
    "        y_test_pred = model(xb_test)\n",
    "        y_pred_tag = torch.round(y_test_pred)\n",
    "        y_pred_list.append(y_pred_tag.detach().numpy())\n",
    "        \n",
    "\n",
    "#Takes arrays and makes them list of list for each batch        \n",
    "y_pred_list = [a.squeeze().tolist() for a in y_pred_list]\n",
    "#flattens the lists in sequence\n",
    "ytest_pred = list(itertools.chain.from_iterable(y_pred_list))"
   ]
  },
  {
   "cell_type": "code",
   "execution_count": 55,
   "metadata": {},
   "outputs": [
    {
     "name": "stdout",
     "output_type": "stream",
     "text": [
      "Confusion Matrix of the Test Set\n",
      "-----------\n",
      "[[1038  391]\n",
      " [ 515  923]]\n",
      "Precision of the MLP :\t0.7024353120243532\n",
      "Recall of the MLP    :\t0.6418636995827538\n",
      "F1 Score of the Model :\t0.6707848837209303\n",
      "Accuracy of the Model :\t0.6839902336937566\n"
     ]
    }
   ],
   "source": [
    "y_true_test = y_test.values.ravel()\n",
    "conf_matrix = confusion_matrix(y_true_test ,ytest_pred)\n",
    "print(\"Confusion Matrix of the Test Set\")\n",
    "print(\"-----------\")\n",
    "print(conf_matrix)\n",
    "print(\"Precision of the MLP :\\t\"+str(precision_score(y_true_test,ytest_pred)))\n",
    "print(\"Recall of the MLP    :\\t\"+str(recall_score(y_true_test,ytest_pred)))\n",
    "print(\"F1 Score of the Model :\\t\"+str(f1_score(y_true_test,ytest_pred)))\n",
    "print(\"Accuracy of the Model :\\t\"+str(accuracy_score(y_true_test,ytest_pred)))"
   ]
  },
  {
   "cell_type": "code",
   "execution_count": 56,
   "metadata": {},
   "outputs": [
    {
     "data": {
      "text/plain": [
       "<sklearn.metrics._plot.roc_curve.RocCurveDisplay at 0x1d74217b190>"
      ]
     },
     "execution_count": 56,
     "metadata": {},
     "output_type": "execute_result"
    },
    {
     "data": {
      "image/png": "[encoded data removed]",
      "text/plain": [
       "<Figure size 432x288 with 1 Axes>"
      ]
     },
     "metadata": {
      "needs_background": "light"
     },
     "output_type": "display_data"
    }
   ],
   "source": [
    "fpr, tpr, thresholds = roc_curve(y_true_test,ytest_pred)\n",
    "roc_auc = auc(fpr, tpr)\n",
    "display = RocCurveDisplay(fpr=fpr, tpr=tpr, roc_auc=roc_auc,  estimator_name='example estimator')\n",
    "display.plot()"
   ]
  },
  {
   "cell_type": "code",
   "execution_count": 57,
   "metadata": {},
   "outputs": [],
   "source": [
    "# model evaluation on training set\n",
    "\n",
    "y_pred_list = []\n",
    "y_true_list = []\n",
    "model.eval()\n",
    "#Since we don't need model to back propagate the gradients in test set we use torch.no_grad()\n",
    "# reduces memory usage and speeds up computation\n",
    "with torch.no_grad():\n",
    "    for i, (xb_train,yb_train)  in enumerate(train_dl):\n",
    "        y_train_pred = model(xb_train)\n",
    "        y_pred_tag = torch.round(y_train_pred)\n",
    "        y_pred_list.append(y_pred_tag.detach().numpy())\n",
    "        y_true_list.append(yb_train.detach().numpy())\n",
    "\n",
    "#Takes arrays and makes them list of list for each batch        \n",
    "y_pred_list = [a.squeeze().tolist() for a in y_pred_list]\n",
    "y_true_list = [a.squeeze().tolist() for a in y_true_list]\n",
    "#flattens the lists in sequence\n",
    "ytest_pred = list(itertools.chain.from_iterable(y_pred_list))\n",
    "ytest_true = list(itertools.chain.from_iterable(y_true_list))"
   ]
  },
  {
   "cell_type": "code",
   "execution_count": 58,
   "metadata": {},
   "outputs": [
    {
     "name": "stdout",
     "output_type": "stream",
     "text": [
      "Confusion Matrix of the Test Set\n",
      "-----------\n",
      "[[4313 1425]\n",
      " [1437 4292]]\n",
      "Precision of the MLP :\t0.750743396886479\n",
      "Recall of the MLP    :\t0.7491708849711992\n",
      "F1 Score of the Model :\t0.749956316617159\n",
      "Accuracy of the Model :\t0.7504142321444144\n"
     ]
    }
   ],
   "source": [
    "conf_matrix = confusion_matrix(ytest_true ,ytest_pred)\n",
    "print(\"Confusion Matrix of the Test Set\")\n",
    "print(\"-----------\")\n",
    "print(conf_matrix)\n",
    "print(\"Precision of the MLP :\\t\"+str(precision_score(ytest_true,ytest_pred)))\n",
    "print(\"Recall of the MLP    :\\t\"+str(recall_score(ytest_true,ytest_pred)))\n",
    "print(\"F1 Score of the Model :\\t\"+str(f1_score(ytest_true,ytest_pred)))\n",
    "print(\"Accuracy of the Model :\\t\"+str(accuracy_score(ytest_true,ytest_pred)))"
   ]
  },
  {
   "cell_type": "code",
   "execution_count": null,
   "metadata": {},
   "outputs": [],
   "source": []
  }
 ],
 "metadata": {
  "kernelspec": {
   "display_name": "Python 3.8.5 ('base')",
   "language": "python",
   "name": "python3"
  },
  "language_info": {
   "codemirror_mode": {
    "name": "ipython",
    "version": 3
   },
   "file_extension": ".py",
   "mimetype": "text/x-python",
   "name": "python",
   "nbconvert_exporter": "python",
   "pygments_lexer": "ipython3",
   "version": "3.8.5"
  },
  "orig_nbformat": 4,
  "vscode": {
   "interpreter": {
    "hash": "17cacb68b189fc8317fc342c9b4062609edce64895a53fd14dc04e71472cd54d"
   }
  }
 },
 "nbformat": 4,
 "nbformat_minor": 2
}
